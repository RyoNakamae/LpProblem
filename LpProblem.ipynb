{
 "cells": [
  {
   "cell_type": "code",
   "execution_count": 1,
   "metadata": {},
   "outputs": [
    {
     "name": "stdout",
     "output_type": "stream",
     "text": [
      "Requirement already satisfied: pulp in c:\\users\\ryonakamae\\.conda\\envs\\py37\\lib\\site-packages (1.6.9)\n",
      "Requirement already satisfied: pyparsing>=2.0.1 in c:\\users\\ryonakamae\\.conda\\envs\\py37\\lib\\site-packages (from pulp) (2.4.0)\n"
     ]
    },
    {
     "name": "stderr",
     "output_type": "stream",
     "text": [
      "You are using pip version 18.1, however version 19.1 is available.\n",
      "You should consider upgrading via the 'python -m pip install --upgrade pip' command.\n"
     ]
    }
   ],
   "source": [
    "# !pip install pulp"
   ]
  },
  {
   "cell_type": "code",
   "execution_count": 2,
   "metadata": {},
   "outputs": [
    {
     "data": {
      "text/plain": [
       "NoName:\n",
       "MINIMIZE\n",
       "None\n",
       "VARIABLES"
      ]
     },
     "execution_count": 2,
     "metadata": {},
     "output_type": "execute_result"
    }
   ],
   "source": [
    "import pulp\n",
    "# from pulp import *\n",
    "m = pulp.LpProblem(sense=pulp.LpMinimize)\n",
    "# m = pulp.LpPrblem()\n",
    "m"
   ]
  },
  {
   "cell_type": "code",
   "execution_count": null,
   "metadata": {},
   "outputs": [],
   "source": [
    "# 理解するためにデフォルト値のままの場合でも省略せずに書く\n",
    "x = pulp.LpVariable('a', lowBound=0, upBound=None, cat=pulp.LpContinuous)\n",
    "y = pulp.LpVariable('b', lowBound=0, upBound=None, cat=pulp.LpContinuous)\n",
    "m += x + y\n",
    "m"
   ]
  },
  {
   "cell_type": "code",
   "execution_count": null,
   "metadata": {},
   "outputs": [],
   "source": [
    "m.solve()"
   ]
  },
  {
   "cell_type": "code",
   "execution_count": 3,
   "metadata": {},
   "outputs": [],
   "source": [
    "# 名称\n",
    "factory_list = [\"factory_A\", \"factory_B\", \"factory_C\"]\n",
    "product_list = [\"product_a\", \"product_b\", \"product_c\", \"product_d\"]\n"
   ]
  },
  {
   "cell_type": "code",
   "execution_count": 4,
   "metadata": {},
   "outputs": [
    {
     "data": {
      "text/plain": [
       "{('factory_A', 'product_a'): 10,\n",
       " ('factory_A', 'product_b'): 10,\n",
       " ('factory_A', 'product_c'): 10,\n",
       " ('factory_A', 'product_d'): 13,\n",
       " ('factory_B', 'product_a'): 11,\n",
       " ('factory_B', 'product_b'): 11,\n",
       " ('factory_B', 'product_c'): 11,\n",
       " ('factory_B', 'product_d'): 15,\n",
       " ('factory_C', 'product_a'): 12,\n",
       " ('factory_C', 'product_b'): 12,\n",
       " ('factory_C', 'product_c'): 12,\n",
       " ('factory_C', 'product_d'): 20}"
      ]
     },
     "execution_count": 4,
     "metadata": {},
     "output_type": "execute_result"
    }
   ],
   "source": [
    "\n",
    "cc = [\n",
    "      [10, 10, 10, 13],\t# Aにおける各製品に対する生産コスト\n",
    "      [11, 11, 11, 15],\t# Bにおける各製品に対する生産コスト\n",
    "      [12, 12, 12, 20],\t# Cにおける各製品に対する生産コスト\n",
    "     ]\n",
    "\n",
    "c = {} # 空の辞書\n",
    "for i in factory_list:\n",
    "    for j in product_list:\n",
    "        c[i,j] = cc[factory_list.index(i)][product_list.index(j)]\n",
    "# cc\n",
    "c"
   ]
  },
  {
   "cell_type": "code",
   "execution_count": 5,
   "metadata": {},
   "outputs": [
    {
     "data": {
      "text/plain": [
       "Problem-2:\n",
       "MINIMIZE\n",
       "None\n",
       "VARIABLES"
      ]
     },
     "execution_count": 5,
     "metadata": {},
     "output_type": "execute_result"
    }
   ],
   "source": [
    "# 数理最適化問題（最小化）を宣言\n",
    "problem = pulp.LpProblem(name=\"Problem-2\", sense=pulp.LpMinimize)\n",
    "problem"
   ]
  },
  {
   "cell_type": "code",
   "execution_count": 6,
   "metadata": {},
   "outputs": [
    {
     "data": {
      "text/plain": [
       "{('factory_A', 'product_a'): x_('factory_A',_'product_a'),\n",
       " ('factory_A', 'product_b'): x_('factory_A',_'product_b'),\n",
       " ('factory_A', 'product_c'): x_('factory_A',_'product_c'),\n",
       " ('factory_A', 'product_d'): x_('factory_A',_'product_d'),\n",
       " ('factory_B', 'product_a'): x_('factory_B',_'product_a'),\n",
       " ('factory_B', 'product_b'): x_('factory_B',_'product_b'),\n",
       " ('factory_B', 'product_c'): x_('factory_B',_'product_c'),\n",
       " ('factory_B', 'product_d'): x_('factory_B',_'product_d'),\n",
       " ('factory_C', 'product_a'): x_('factory_C',_'product_a'),\n",
       " ('factory_C', 'product_b'): x_('factory_C',_'product_b'),\n",
       " ('factory_C', 'product_c'): x_('factory_C',_'product_c'),\n",
       " ('factory_C', 'product_d'): x_('factory_C',_'product_d')}"
      ]
     },
     "execution_count": 6,
     "metadata": {},
     "output_type": "execute_result"
    }
   ],
   "source": [
    "x_suffixes = [(i,j) for i in factory_list for j in product_list]\n",
    "x = pulp.LpVariable.dicts(\"x\", x_suffixes, lowBound=0, cat = pulp.LpContinuous ) \n",
    "x"
   ]
  },
  {
   "cell_type": "code",
   "execution_count": 7,
   "metadata": {},
   "outputs": [
    {
     "data": {
      "text/plain": [
       "Problem-2:\n",
       "MINIMIZE\n",
       "10*x_('factory_A',_'product_a') + 10*x_('factory_A',_'product_b') + 10*x_('factory_A',_'product_c') + 13*x_('factory_A',_'product_d') + 11*x_('factory_B',_'product_a') + 11*x_('factory_B',_'product_b') + 11*x_('factory_B',_'product_c') + 15*x_('factory_B',_'product_d') + 12*x_('factory_C',_'product_a') + 12*x_('factory_C',_'product_b') + 12*x_('factory_C',_'product_c') + 20*x_('factory_C',_'product_d') + 0\n",
       "VARIABLES\n",
       "x_('factory_A',_'product_a') Continuous\n",
       "x_('factory_A',_'product_b') Continuous\n",
       "x_('factory_A',_'product_c') Continuous\n",
       "x_('factory_A',_'product_d') Continuous\n",
       "x_('factory_B',_'product_a') Continuous\n",
       "x_('factory_B',_'product_b') Continuous\n",
       "x_('factory_B',_'product_c') Continuous\n",
       "x_('factory_B',_'product_d') Continuous\n",
       "x_('factory_C',_'product_a') Continuous\n",
       "x_('factory_C',_'product_b') Continuous\n",
       "x_('factory_C',_'product_c') Continuous\n",
       "x_('factory_C',_'product_d') Continuous"
      ]
     },
     "execution_count": 7,
     "metadata": {},
     "output_type": "execute_result"
    }
   ],
   "source": [
    "# 目的関数を宣言\n",
    "problem += pulp.lpSum(c[i,j] * x[i,j] for i in factory_list for j in product_list),\"TotalCost\"\n",
    "problem"
   ]
  },
  {
   "cell_type": "code",
   "execution_count": 8,
   "metadata": {},
   "outputs": [
    {
     "name": "stdout",
     "output_type": "stream",
     "text": [
      "product_a の需要 30\n",
      "product_b の需要 18\n",
      "product_c の需要 15\n",
      "product_d の需要 15\n"
     ]
    }
   ],
   "source": [
    "# 需要：これが制限変数になる\n",
    "product_demand_list = [30, 18, 15, 15]\n",
    "\n",
    "# 制約条件を宣言\n",
    "for j in product_list:\n",
    "    print(\"{} の需要 {}\".format(j, product_demand_list[product_list.index(j)]))\n",
    "    problem += pulp.lpSum(x[i,j] for i in factory_list) == product_demand_list[product_list.index(j)]\n",
    "problem"
   ]
  },
  {
   "cell_type": "code",
   "execution_count": 10,
   "metadata": {},
   "outputs": [
    {
     "name": "stdout",
     "output_type": "stream",
     "text": [
      "Optimal\n"
     ]
    }
   ],
   "source": [
    "# 演算\n",
    "status = problem.solve()\n",
    "print(pulp.LpStatus[status])\n"
   ]
  },
  {
   "cell_type": "code",
   "execution_count": 11,
   "metadata": {},
   "outputs": [
    {
     "name": "stdout",
     "output_type": "stream",
     "text": [
      "x_('factory_A',_'product_a') = 30.0,  x_('factory_A',_'product_b') = 18.0,  x_('factory_A',_'product_c') = 15.0,  x_('factory_A',_'product_d') = 15.0,  \n",
      "x_('factory_B',_'product_a') = 0.0,  x_('factory_B',_'product_b') = 0.0,  x_('factory_B',_'product_c') = 0.0,  x_('factory_B',_'product_d') = 0.0,  \n",
      "x_('factory_C',_'product_a') = 0.0,  x_('factory_C',_'product_b') = 0.0,  x_('factory_C',_'product_c') = 0.0,  x_('factory_C',_'product_d') = 0.0,  \n"
     ]
    }
   ],
   "source": [
    "# 出力\n",
    "for i in factory_list:\n",
    "    for j in product_list:\n",
    "        print(\"{:} = {:},  \"\n",
    "              .format(x[i,j].name, x[i,j].value()), end=\"\")\n",
    "    print(\"\")\n"
   ]
  },
  {
   "cell_type": "code",
   "execution_count": 12,
   "metadata": {},
   "outputs": [
    {
     "name": "stdout",
     "output_type": "stream",
     "text": [
      "factory_A の下限 1\n",
      "factory_B の下限 1\n",
      "factory_C の下限 1\n"
     ]
    },
    {
     "data": {
      "text/plain": [
       "Problem-2:\n",
       "MINIMIZE\n",
       "10*x_('factory_A',_'product_a') + 10*x_('factory_A',_'product_b') + 10*x_('factory_A',_'product_c') + 13*x_('factory_A',_'product_d') + 11*x_('factory_B',_'product_a') + 11*x_('factory_B',_'product_b') + 11*x_('factory_B',_'product_c') + 15*x_('factory_B',_'product_d') + 12*x_('factory_C',_'product_a') + 12*x_('factory_C',_'product_b') + 12*x_('factory_C',_'product_c') + 20*x_('factory_C',_'product_d') + 0\n",
       "SUBJECT TO\n",
       "_C1: x_('factory_A',_'product_a') + x_('factory_B',_'product_a')\n",
       " + x_('factory_C',_'product_a') = 30\n",
       "\n",
       "_C2: x_('factory_A',_'product_b') + x_('factory_B',_'product_b')\n",
       " + x_('factory_C',_'product_b') = 18\n",
       "\n",
       "_C3: x_('factory_A',_'product_c') + x_('factory_B',_'product_c')\n",
       " + x_('factory_C',_'product_c') = 15\n",
       "\n",
       "_C4: x_('factory_A',_'product_d') + x_('factory_B',_'product_d')\n",
       " + x_('factory_C',_'product_d') = 15\n",
       "\n",
       "_C5: x_('factory_A',_'product_a') + x_('factory_A',_'product_b')\n",
       " + x_('factory_A',_'product_c') + x_('factory_A',_'product_d') >= 1\n",
       "\n",
       "_C6: x_('factory_B',_'product_a') + x_('factory_B',_'product_b')\n",
       " + x_('factory_B',_'product_c') + x_('factory_B',_'product_d') >= 1\n",
       "\n",
       "_C7: x_('factory_C',_'product_a') + x_('factory_C',_'product_b')\n",
       " + x_('factory_C',_'product_c') + x_('factory_C',_'product_d') >= 1\n",
       "\n",
       "VARIABLES\n",
       "x_('factory_A',_'product_a') Continuous\n",
       "x_('factory_A',_'product_b') Continuous\n",
       "x_('factory_A',_'product_c') Continuous\n",
       "x_('factory_A',_'product_d') Continuous\n",
       "x_('factory_B',_'product_a') Continuous\n",
       "x_('factory_B',_'product_b') Continuous\n",
       "x_('factory_B',_'product_c') Continuous\n",
       "x_('factory_B',_'product_d') Continuous\n",
       "x_('factory_C',_'product_a') Continuous\n",
       "x_('factory_C',_'product_b') Continuous\n",
       "x_('factory_C',_'product_c') Continuous\n",
       "x_('factory_C',_'product_d') Continuous"
      ]
     },
     "execution_count": 12,
     "metadata": {},
     "output_type": "execute_result"
    }
   ],
   "source": [
    "# 各工場の製品の合計を0より上にする\n",
    "factory_mini_list = [1, 1, 1]\n",
    "for i in factory_list:\n",
    "    print(\"{} の下限 {}\".format(i, factory_mini_list[factory_list.index(i)]))\n",
    "    problem += pulp.lpSum(x[i,j] for j in product_list) >= factory_mini_list[factory_list.index(i)]\n",
    "# for i in factory_list:\n",
    "# #     print(\"{} の下限 {}\".format(i, factory_mini_list[factory_list.index(i)]))\n",
    "#     problem += pulp.lpSum(x[i,j] for j in product_list) >= 1\n",
    "problem"
   ]
  },
  {
   "cell_type": "code",
   "execution_count": 13,
   "metadata": {},
   "outputs": [
    {
     "name": "stdout",
     "output_type": "stream",
     "text": [
      "Optimal\n"
     ]
    }
   ],
   "source": [
    "# problem\n",
    "status = problem.solve()\n",
    "print(pulp.LpStatus[status])"
   ]
  },
  {
   "cell_type": "code",
   "execution_count": 18,
   "metadata": {},
   "outputs": [
    {
     "name": "stdout",
     "output_type": "stream",
     "text": [
      "x_('factory_A',_'product_a') = 28.0,  x_('factory_A',_'product_b') = 18.0,  x_('factory_A',_'product_c') = 15.0,  x_('factory_A',_'product_d') = 15.0,  \n",
      "x_('factory_B',_'product_a') = 1.0,  x_('factory_B',_'product_b') = 0.0,  x_('factory_B',_'product_c') = 0.0,  x_('factory_B',_'product_d') = 0.0,  \n",
      "x_('factory_C',_'product_a') = 1.0,  x_('factory_C',_'product_b') = 0.0,  x_('factory_C',_'product_c') = 0.0,  x_('factory_C',_'product_d') = 0.0,  \n"
     ]
    },
    {
     "data": {
      "text/plain": [
       "828.0"
      ]
     },
     "execution_count": 18,
     "metadata": {},
     "output_type": "execute_result"
    }
   ],
   "source": [
    "for i in factory_list:\n",
    "    for j in product_list:\n",
    "        print(\"{:} = {:},  \"\n",
    "              .format(x[i,j].name, x[i,j].value()), end=\"\")\n",
    "    print(\"\")\n",
    "# 合計コスト\n",
    "ss = sum(c[i,j] * x[i,j].value() for i in factory_list for j in product_list)\n",
    "ss"
   ]
  },
  {
   "cell_type": "code",
   "execution_count": 23,
   "metadata": {},
   "outputs": [
    {
     "name": "stdout",
     "output_type": "stream",
     "text": [
      "factory_A の上限 300\n",
      "factory_B の上限 200\n",
      "factory_C の上限 100\n"
     ]
    },
    {
     "data": {
      "text/plain": [
       "Problem-2:\n",
       "MINIMIZE\n",
       "10*x_('factory_A',_'product_a') + 10*x_('factory_A',_'product_b') + 10*x_('factory_A',_'product_c') + 13*x_('factory_A',_'product_d') + 11*x_('factory_B',_'product_a') + 11*x_('factory_B',_'product_b') + 11*x_('factory_B',_'product_c') + 15*x_('factory_B',_'product_d') + 12*x_('factory_C',_'product_a') + 12*x_('factory_C',_'product_b') + 12*x_('factory_C',_'product_c') + 20*x_('factory_C',_'product_d') + 0\n",
       "SUBJECT TO\n",
       "_C1: x_('factory_A',_'product_a') + x_('factory_B',_'product_a')\n",
       " + x_('factory_C',_'product_a') = 30\n",
       "\n",
       "_C2: x_('factory_A',_'product_b') + x_('factory_B',_'product_b')\n",
       " + x_('factory_C',_'product_b') = 18\n",
       "\n",
       "_C3: x_('factory_A',_'product_c') + x_('factory_B',_'product_c')\n",
       " + x_('factory_C',_'product_c') = 15\n",
       "\n",
       "_C4: x_('factory_A',_'product_d') + x_('factory_B',_'product_d')\n",
       " + x_('factory_C',_'product_d') = 15\n",
       "\n",
       "_C5: x_('factory_A',_'product_a') + x_('factory_A',_'product_b')\n",
       " + x_('factory_A',_'product_c') + x_('factory_A',_'product_d') >= 1\n",
       "\n",
       "_C6: x_('factory_B',_'product_a') + x_('factory_B',_'product_b')\n",
       " + x_('factory_B',_'product_c') + x_('factory_B',_'product_d') >= 1\n",
       "\n",
       "_C7: x_('factory_C',_'product_a') + x_('factory_C',_'product_b')\n",
       " + x_('factory_C',_'product_c') + x_('factory_C',_'product_d') >= 1\n",
       "\n",
       "_C8: x_('factory_A',_'product_a') + x_('factory_A',_'product_b')\n",
       " + x_('factory_A',_'product_c') + x_('factory_A',_'product_d') <= 300\n",
       "\n",
       "_C9: x_('factory_B',_'product_a') + x_('factory_B',_'product_b')\n",
       " + x_('factory_B',_'product_c') + x_('factory_B',_'product_d') <= 200\n",
       "\n",
       "_C10: x_('factory_C',_'product_a') + x_('factory_C',_'product_b')\n",
       " + x_('factory_C',_'product_c') + x_('factory_C',_'product_d') <= 100\n",
       "\n",
       "_C11: x_('factory_A',_'product_a') + x_('factory_A',_'product_b')\n",
       " + x_('factory_A',_'product_c') + x_('factory_A',_'product_d') <= 300\n",
       "\n",
       "_C12: x_('factory_B',_'product_a') + x_('factory_B',_'product_b')\n",
       " + x_('factory_B',_'product_c') + x_('factory_B',_'product_d') <= 200\n",
       "\n",
       "_C13: x_('factory_C',_'product_a') + x_('factory_C',_'product_b')\n",
       " + x_('factory_C',_'product_c') + x_('factory_C',_'product_d') <= 100\n",
       "\n",
       "_C14: 10 x_('factory_A',_'product_a') + 10 x_('factory_A',_'product_b')\n",
       " + 10 x_('factory_A',_'product_c') + 13 x_('factory_A',_'product_d') <= 300\n",
       "\n",
       "_C15: 11 x_('factory_B',_'product_a') + 11 x_('factory_B',_'product_b')\n",
       " + 11 x_('factory_B',_'product_c') + 15 x_('factory_B',_'product_d') <= 200\n",
       "\n",
       "_C16: 12 x_('factory_C',_'product_a') + 12 x_('factory_C',_'product_b')\n",
       " + 12 x_('factory_C',_'product_c') + 20 x_('factory_C',_'product_d') <= 100\n",
       "\n",
       "VARIABLES\n",
       "x_('factory_A',_'product_a') Continuous\n",
       "x_('factory_A',_'product_b') Continuous\n",
       "x_('factory_A',_'product_c') Continuous\n",
       "x_('factory_A',_'product_d') Continuous\n",
       "x_('factory_B',_'product_a') Continuous\n",
       "x_('factory_B',_'product_b') Continuous\n",
       "x_('factory_B',_'product_c') Continuous\n",
       "x_('factory_B',_'product_d') Continuous\n",
       "x_('factory_C',_'product_a') Continuous\n",
       "x_('factory_C',_'product_b') Continuous\n",
       "x_('factory_C',_'product_c') Continuous\n",
       "x_('factory_C',_'product_d') Continuous"
      ]
     },
     "execution_count": 23,
     "metadata": {},
     "output_type": "execute_result"
    }
   ],
   "source": [
    "## 上限\n",
    "factory_max_list = [300,200,100]\n",
    "for i in factory_list:\n",
    "    print(\"{} の上限 {}\".format(i, factory_max_list[factory_list.index(i)]))\n",
    "    problem += pulp.lpSum(c[i,j] * x[i,j] for j in product_list) <= factory_max_list[factory_list.index(i)]\n",
    "problem"
   ]
  },
  {
   "cell_type": "code",
   "execution_count": 24,
   "metadata": {},
   "outputs": [
    {
     "name": "stdout",
     "output_type": "stream",
     "text": [
      "Infeasible\n"
     ]
    }
   ],
   "source": [
    "status = problem.solve()\n",
    "print(pulp.LpStatus[status])"
   ]
  },
  {
   "cell_type": "code",
   "execution_count": 30,
   "metadata": {},
   "outputs": [
    {
     "name": "stdout",
     "output_type": "stream",
     "text": [
      "product_a の需要 30\n",
      "product_b の需要 18\n",
      "product_c の需要 15\n",
      "product_d の需要 15\n",
      "factory_A の下限 1\n",
      "factory_B の下限 1\n",
      "factory_C の下限 1\n",
      "factory_A の上限 400\n",
      "factory_B の上限 300\n",
      "factory_C の上限 200\n"
     ]
    },
    {
     "data": {
      "text/plain": [
       "Problem-3:\n",
       "MINIMIZE\n",
       "10*x_('factory_A',_'product_a') + 10*x_('factory_A',_'product_b') + 10*x_('factory_A',_'product_c') + 13*x_('factory_A',_'product_d') + 11*x_('factory_B',_'product_a') + 11*x_('factory_B',_'product_b') + 11*x_('factory_B',_'product_c') + 15*x_('factory_B',_'product_d') + 12*x_('factory_C',_'product_a') + 12*x_('factory_C',_'product_b') + 12*x_('factory_C',_'product_c') + 20*x_('factory_C',_'product_d') + 0\n",
       "SUBJECT TO\n",
       "_C1: x_('factory_A',_'product_a') + x_('factory_B',_'product_a')\n",
       " + x_('factory_C',_'product_a') = 30\n",
       "\n",
       "_C2: x_('factory_A',_'product_b') + x_('factory_B',_'product_b')\n",
       " + x_('factory_C',_'product_b') = 18\n",
       "\n",
       "_C3: x_('factory_A',_'product_c') + x_('factory_B',_'product_c')\n",
       " + x_('factory_C',_'product_c') = 15\n",
       "\n",
       "_C4: x_('factory_A',_'product_d') + x_('factory_B',_'product_d')\n",
       " + x_('factory_C',_'product_d') = 15\n",
       "\n",
       "_C5: x_('factory_A',_'product_a') + x_('factory_A',_'product_b')\n",
       " + x_('factory_A',_'product_c') + x_('factory_A',_'product_d') >= 1\n",
       "\n",
       "_C6: x_('factory_B',_'product_a') + x_('factory_B',_'product_b')\n",
       " + x_('factory_B',_'product_c') + x_('factory_B',_'product_d') >= 1\n",
       "\n",
       "_C7: x_('factory_C',_'product_a') + x_('factory_C',_'product_b')\n",
       " + x_('factory_C',_'product_c') + x_('factory_C',_'product_d') >= 1\n",
       "\n",
       "_C8: 10 x_('factory_A',_'product_a') + 10 x_('factory_A',_'product_b')\n",
       " + 10 x_('factory_A',_'product_c') + 13 x_('factory_A',_'product_d') <= 400\n",
       "\n",
       "_C9: 11 x_('factory_B',_'product_a') + 11 x_('factory_B',_'product_b')\n",
       " + 11 x_('factory_B',_'product_c') + 15 x_('factory_B',_'product_d') <= 300\n",
       "\n",
       "_C10: 12 x_('factory_C',_'product_a') + 12 x_('factory_C',_'product_b')\n",
       " + 12 x_('factory_C',_'product_c') + 20 x_('factory_C',_'product_d') <= 200\n",
       "\n",
       "VARIABLES\n",
       "x_('factory_A',_'product_a') Continuous\n",
       "x_('factory_A',_'product_b') Continuous\n",
       "x_('factory_A',_'product_c') Continuous\n",
       "x_('factory_A',_'product_d') Continuous\n",
       "x_('factory_B',_'product_a') Continuous\n",
       "x_('factory_B',_'product_b') Continuous\n",
       "x_('factory_B',_'product_c') Continuous\n",
       "x_('factory_B',_'product_d') Continuous\n",
       "x_('factory_C',_'product_a') Continuous\n",
       "x_('factory_C',_'product_b') Continuous\n",
       "x_('factory_C',_'product_c') Continuous\n",
       "x_('factory_C',_'product_d') Continuous"
      ]
     },
     "execution_count": 30,
     "metadata": {},
     "output_type": "execute_result"
    }
   ],
   "source": [
    "problem = pulp.LpProblem(name=\"Problem-3\", sense=pulp.LpMinimize)\n",
    "problem += pulp.lpSum(c[i,j] * x[i,j] for i in factory_list for j in product_list),\"TotalCost\"\n",
    "# 制約条件を宣言\n",
    "for j in product_list:\n",
    "    print(\"{} の需要 {}\".format(j, product_demand_list[product_list.index(j)]))\n",
    "    problem += pulp.lpSum(x[i,j] for i in factory_list) == product_demand_list[product_list.index(j)]\n",
    "# 各工場の製品の合計を0より上にする\n",
    "for i in factory_list:\n",
    "    print(\"{} の下限 {}\".format(i, factory_mini_list[factory_list.index(i)]))\n",
    "    problem += pulp.lpSum(x[i,j] for j in product_list) >= factory_mini_list[factory_list.index(i)]\n",
    "\n",
    "factory_max_list = [400,300,200]\n",
    "for i in factory_list:\n",
    "    print(\"{} の上限 {}\".format(i, factory_max_list[factory_list.index(i)]))\n",
    "    problem += pulp.lpSum(c[i,j] * x[i,j] for j in product_list) <= factory_max_list[factory_list.index(i)]\n",
    "problem"
   ]
  },
  {
   "cell_type": "code",
   "execution_count": 31,
   "metadata": {},
   "outputs": [
    {
     "name": "stdout",
     "output_type": "stream",
     "text": [
      "Optimal\n"
     ]
    }
   ],
   "source": [
    "status = problem.solve()\n",
    "print(pulp.LpStatus[status])"
   ]
  },
  {
   "cell_type": "code",
   "execution_count": 32,
   "metadata": {},
   "outputs": [
    {
     "name": "stdout",
     "output_type": "stream",
     "text": [
      "x_('factory_A',_'product_a') = 0.0,  x_('factory_A',_'product_b') = 5.5,  x_('factory_A',_'product_c') = 15.0,  x_('factory_A',_'product_d') = 15.0,  \n",
      "x_('factory_B',_'product_a') = 14.772727,  x_('factory_B',_'product_b') = 12.5,  x_('factory_B',_'product_c') = 0.0,  x_('factory_B',_'product_d') = 0.0,  \n",
      "x_('factory_C',_'product_a') = 15.227273,  x_('factory_C',_'product_b') = 0.0,  x_('factory_C',_'product_c') = 0.0,  x_('factory_C',_'product_d') = 0.0,  \n"
     ]
    },
    {
     "data": {
      "text/plain": [
       "882.727273"
      ]
     },
     "execution_count": 32,
     "metadata": {},
     "output_type": "execute_result"
    }
   ],
   "source": [
    "for i in factory_list:\n",
    "    for j in product_list:\n",
    "        print(\"{:} = {:},  \"\n",
    "              .format(x[i,j].name, x[i,j].value()), end=\"\")\n",
    "    print(\"\")\n",
    "# 合計コスト\n",
    "ss = sum(c[i,j] * x[i,j].value() for i in factory_list for j in product_list)\n",
    "ss"
   ]
  }
 ],
 "metadata": {
  "kernelspec": {
   "display_name": "Python 3",
   "language": "python",
   "name": "python3"
  },
  "language_info": {
   "codemirror_mode": {
    "name": "ipython",
    "version": 3
   },
   "file_extension": ".py",
   "mimetype": "text/x-python",
   "name": "python",
   "nbconvert_exporter": "python",
   "pygments_lexer": "ipython3",
   "version": "3.6.8"
  }
 },
 "nbformat": 4,
 "nbformat_minor": 2
}
